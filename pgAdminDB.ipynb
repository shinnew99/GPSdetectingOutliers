{
 "cells": [
  {
   "cell_type": "code",
   "execution_count": 1,
   "metadata": {},
   "outputs": [],
   "source": [
    "import skmob"
   ]
  },
  {
   "cell_type": "code",
   "execution_count": 2,
   "metadata": {
    "jupyter": {
     "outputs_hidden": true
    }
   },
   "outputs": [
    {
     "name": "stdout",
     "output_type": "stream",
     "text": [
      "Requirement already satisfied: psycopg2-binary in /root/miniconda3/envs/skmob/lib/python3.7/site-packages (2.8.6)\n",
      "Requirement already satisfied: pandas in /root/miniconda3/envs/skmob/lib/python3.7/site-packages/pandas-0.24.0-py3.7-linux-x86_64.egg (0.24.0)\n",
      "Requirement already satisfied: sqlalchemy in /root/miniconda3/envs/skmob/lib/python3.7/site-packages (1.3.20)\n",
      "Requirement already satisfied: numpy>=1.12.0 in /root/miniconda3/envs/skmob/lib/python3.7/site-packages/numpy-1.17.2-py3.7-linux-x86_64.egg (from pandas) (1.17.2)\n",
      "Requirement already satisfied: python-dateutil>=2.5.0 in /root/miniconda3/envs/skmob/lib/python3.7/site-packages (from pandas) (2.8.0)\n",
      "Requirement already satisfied: pytz>=2011k in /root/miniconda3/envs/skmob/lib/python3.7/site-packages/pytz-2019.2-py3.7.egg (from pandas) (2019.2)\n",
      "Requirement already satisfied: six>=1.5 in /root/miniconda3/envs/skmob/lib/python3.7/site-packages (from python-dateutil>=2.5.0->pandas) (1.12.0)\n"
     ]
    }
   ],
   "source": [
    "!pip install psycopg2-binary pandas sqlalchemy"
   ]
  },
  {
   "cell_type": "code",
   "execution_count": 3,
   "metadata": {},
   "outputs": [],
   "source": [
    "import psycopg2 as pg\n",
    "import pandas as pd"
   ]
  },
  {
   "cell_type": "code",
   "execution_count": 4,
   "metadata": {},
   "outputs": [],
   "source": [
    "dbprops = {\n",
    "    'host': 'dbapp.hanyang.ac.kr',\n",
    "    'database': '',\n",
    "    'user': '',\n",
    "    'password': '',\n",
    "    'port': ''\n",
    "}\n",
    "conn = pg.connect(**dbprops)"
   ]
  },
  {
   "cell_type": "code",
   "execution_count": 5,
   "metadata": {},
   "outputs": [],
   "source": [
    "cur = conn.cursor()"
   ]
  },
  {
   "cell_type": "code",
   "execution_count": 6,
   "metadata": {},
   "outputs": [
    {
     "data": {
      "text/html": [
       "<div>\n",
       "<style scoped>\n",
       "    .dataframe tbody tr th:only-of-type {\n",
       "        vertical-align: middle;\n",
       "    }\n",
       "\n",
       "    .dataframe tbody tr th {\n",
       "        vertical-align: top;\n",
       "    }\n",
       "\n",
       "    .dataframe thead th {\n",
       "        text-align: right;\n",
       "    }\n",
       "</style>\n",
       "<table border=\"1\" class=\"dataframe\">\n",
       "  <thead>\n",
       "    <tr style=\"text-align: right;\">\n",
       "      <th></th>\n",
       "      <th>datetime</th>\n",
       "      <th>id</th>\n",
       "      <th>protocol</th>\n",
       "      <th>deviceid</th>\n",
       "      <th>servertime</th>\n",
       "      <th>devicetime</th>\n",
       "      <th>fixtime</th>\n",
       "      <th>valid</th>\n",
       "      <th>latitude</th>\n",
       "      <th>longitude</th>\n",
       "      <th>altitude</th>\n",
       "      <th>speed</th>\n",
       "      <th>course</th>\n",
       "      <th>address</th>\n",
       "      <th>attributes</th>\n",
       "      <th>accuracy</th>\n",
       "      <th>network</th>\n",
       "    </tr>\n",
       "  </thead>\n",
       "  <tbody>\n",
       "    <tr>\n",
       "      <th>0</th>\n",
       "      <td>2020-10-22 18:00:19</td>\n",
       "      <td>441010</td>\n",
       "      <td>osmand</td>\n",
       "      <td>1</td>\n",
       "      <td>2020-10-22 09:00:21.240</td>\n",
       "      <td>2020-10-22 09:00:19</td>\n",
       "      <td>2020-10-22 09:00:19</td>\n",
       "      <td>True</td>\n",
       "      <td>37.555743</td>\n",
       "      <td>127.049386</td>\n",
       "      <td>64.400002</td>\n",
       "      <td>0.000000</td>\n",
       "      <td>0.000000</td>\n",
       "      <td>None</td>\n",
       "      <td>{\"batteryLevel\":92.0,\"distance\":0.81,\"totalDis...</td>\n",
       "      <td>13.698</td>\n",
       "      <td>null</td>\n",
       "    </tr>\n",
       "    <tr>\n",
       "      <th>1</th>\n",
       "      <td>2020-10-22 18:10:20</td>\n",
       "      <td>441011</td>\n",
       "      <td>osmand</td>\n",
       "      <td>1</td>\n",
       "      <td>2020-10-22 09:10:22.072</td>\n",
       "      <td>2020-10-22 09:10:20</td>\n",
       "      <td>2020-10-22 09:10:20</td>\n",
       "      <td>True</td>\n",
       "      <td>37.555755</td>\n",
       "      <td>127.049387</td>\n",
       "      <td>63.199997</td>\n",
       "      <td>0.000000</td>\n",
       "      <td>0.000000</td>\n",
       "      <td>None</td>\n",
       "      <td>{\"batteryLevel\":96.0,\"distance\":1.3,\"totalDist...</td>\n",
       "      <td>14.070</td>\n",
       "      <td>null</td>\n",
       "    </tr>\n",
       "    <tr>\n",
       "      <th>2</th>\n",
       "      <td>2020-10-22 18:28:30</td>\n",
       "      <td>441014</td>\n",
       "      <td>osmand</td>\n",
       "      <td>1</td>\n",
       "      <td>2020-10-22 09:28:31.918</td>\n",
       "      <td>2020-10-22 09:28:30</td>\n",
       "      <td>2020-10-22 09:28:30</td>\n",
       "      <td>True</td>\n",
       "      <td>37.555747</td>\n",
       "      <td>127.049387</td>\n",
       "      <td>63.199997</td>\n",
       "      <td>0.000000</td>\n",
       "      <td>0.000000</td>\n",
       "      <td>None</td>\n",
       "      <td>{\"batteryLevel\":100.0,\"distance\":0.88,\"totalDi...</td>\n",
       "      <td>13.488</td>\n",
       "      <td>null</td>\n",
       "    </tr>\n",
       "    <tr>\n",
       "      <th>3</th>\n",
       "      <td>2020-10-22 18:31:01</td>\n",
       "      <td>441015</td>\n",
       "      <td>osmand</td>\n",
       "      <td>1</td>\n",
       "      <td>2020-10-22 09:31:03.230</td>\n",
       "      <td>2020-10-22 09:31:01</td>\n",
       "      <td>2020-10-22 09:31:01</td>\n",
       "      <td>True</td>\n",
       "      <td>37.555854</td>\n",
       "      <td>127.049336</td>\n",
       "      <td>64.599998</td>\n",
       "      <td>0.000000</td>\n",
       "      <td>0.000000</td>\n",
       "      <td>None</td>\n",
       "      <td>{\"batteryLevel\":100.0,\"distance\":12.67,\"totalD...</td>\n",
       "      <td>11.510</td>\n",
       "      <td>null</td>\n",
       "    </tr>\n",
       "    <tr>\n",
       "      <th>4</th>\n",
       "      <td>2020-10-22 18:31:23</td>\n",
       "      <td>441016</td>\n",
       "      <td>osmand</td>\n",
       "      <td>1</td>\n",
       "      <td>2020-10-22 09:31:25.213</td>\n",
       "      <td>2020-10-22 09:31:23</td>\n",
       "      <td>2020-10-22 09:31:23</td>\n",
       "      <td>True</td>\n",
       "      <td>37.555838</td>\n",
       "      <td>127.049337</td>\n",
       "      <td>64.599998</td>\n",
       "      <td>0.093432</td>\n",
       "      <td>147.637253</td>\n",
       "      <td>None</td>\n",
       "      <td>{\"batteryLevel\":100.0,\"distance\":1.71,\"totalDi...</td>\n",
       "      <td>11.042</td>\n",
       "      <td>null</td>\n",
       "    </tr>\n",
       "  </tbody>\n",
       "</table>\n",
       "</div>"
      ],
      "text/plain": [
       "             datetime      id protocol  deviceid              servertime  \\\n",
       "0 2020-10-22 18:00:19  441010   osmand         1 2020-10-22 09:00:21.240   \n",
       "1 2020-10-22 18:10:20  441011   osmand         1 2020-10-22 09:10:22.072   \n",
       "2 2020-10-22 18:28:30  441014   osmand         1 2020-10-22 09:28:31.918   \n",
       "3 2020-10-22 18:31:01  441015   osmand         1 2020-10-22 09:31:03.230   \n",
       "4 2020-10-22 18:31:23  441016   osmand         1 2020-10-22 09:31:25.213   \n",
       "\n",
       "           devicetime             fixtime  valid   latitude   longitude  \\\n",
       "0 2020-10-22 09:00:19 2020-10-22 09:00:19   True  37.555743  127.049386   \n",
       "1 2020-10-22 09:10:20 2020-10-22 09:10:20   True  37.555755  127.049387   \n",
       "2 2020-10-22 09:28:30 2020-10-22 09:28:30   True  37.555747  127.049387   \n",
       "3 2020-10-22 09:31:01 2020-10-22 09:31:01   True  37.555854  127.049336   \n",
       "4 2020-10-22 09:31:23 2020-10-22 09:31:23   True  37.555838  127.049337   \n",
       "\n",
       "    altitude     speed      course address  \\\n",
       "0  64.400002  0.000000    0.000000    None   \n",
       "1  63.199997  0.000000    0.000000    None   \n",
       "2  63.199997  0.000000    0.000000    None   \n",
       "3  64.599998  0.000000    0.000000    None   \n",
       "4  64.599998  0.093432  147.637253    None   \n",
       "\n",
       "                                          attributes  accuracy network  \n",
       "0  {\"batteryLevel\":92.0,\"distance\":0.81,\"totalDis...    13.698    null  \n",
       "1  {\"batteryLevel\":96.0,\"distance\":1.3,\"totalDist...    14.070    null  \n",
       "2  {\"batteryLevel\":100.0,\"distance\":0.88,\"totalDi...    13.488    null  \n",
       "3  {\"batteryLevel\":100.0,\"distance\":12.67,\"totalD...    11.510    null  \n",
       "4  {\"batteryLevel\":100.0,\"distance\":1.71,\"totalDi...    11.042    null  "
      ]
     },
     "execution_count": 6,
     "metadata": {},
     "output_type": "execute_result"
    }
   ],
   "source": [
    "sql = \"select tp.fixtime at time zone 'utc' at time zone 'Asia/Seoul' as datetime, tp.* from tc_devices td, tc_positions tp where td.id = 1 AND tp.deviceid = td.id AND tp.deviceid = td.id AND tp.fixtime BETWEEN '2020-10-22 09:00:00'::timestamp AND '2020-10-23 02:00:00'::timestamp ORDER BY tp.id\"\n",
    "df = pd.read_sql(sql, conn)\n",
    "df.head()"
   ]
  },
  {
   "cell_type": "code",
   "execution_count": 10,
   "metadata": {
    "scrolled": true
   },
   "outputs": [
    {
     "data": {
      "text/html": [
       "<div>\n",
       "<style scoped>\n",
       "    .dataframe tbody tr th:only-of-type {\n",
       "        vertical-align: middle;\n",
       "    }\n",
       "\n",
       "    .dataframe tbody tr th {\n",
       "        vertical-align: top;\n",
       "    }\n",
       "\n",
       "    .dataframe thead th {\n",
       "        text-align: right;\n",
       "    }\n",
       "</style>\n",
       "<table border=\"1\" class=\"dataframe\">\n",
       "  <thead>\n",
       "    <tr style=\"text-align: right;\">\n",
       "      <th></th>\n",
       "      <th>1</th>\n",
       "    </tr>\n",
       "  </thead>\n",
       "  <tbody>\n",
       "    <tr>\n",
       "      <th>datetime</th>\n",
       "      <td>2020-10-22 18:10:20</td>\n",
       "    </tr>\n",
       "    <tr>\n",
       "      <th>deviceid</th>\n",
       "      <td>1</td>\n",
       "    </tr>\n",
       "    <tr>\n",
       "      <th>latitude</th>\n",
       "      <td>37.5558</td>\n",
       "    </tr>\n",
       "    <tr>\n",
       "      <th>longitude</th>\n",
       "      <td>127.049</td>\n",
       "    </tr>\n",
       "    <tr>\n",
       "      <th>altitude</th>\n",
       "      <td>63.2</td>\n",
       "    </tr>\n",
       "    <tr>\n",
       "      <th>speed</th>\n",
       "      <td>0</td>\n",
       "    </tr>\n",
       "    <tr>\n",
       "      <th>attributes</th>\n",
       "      <td>{\"batteryLevel\":96.0,\"distance\":1.3,\"totalDist...</td>\n",
       "    </tr>\n",
       "    <tr>\n",
       "      <th>accuracy</th>\n",
       "      <td>14.07</td>\n",
       "    </tr>\n",
       "  </tbody>\n",
       "</table>\n",
       "</div>"
      ],
      "text/plain": [
       "                                                            1\n",
       "datetime                                  2020-10-22 18:10:20\n",
       "deviceid                                                    1\n",
       "latitude                                              37.5558\n",
       "longitude                                             127.049\n",
       "altitude                                                 63.2\n",
       "speed                                                       0\n",
       "attributes  {\"batteryLevel\":96.0,\"distance\":1.3,\"totalDist...\n",
       "accuracy                                                14.07"
      ]
     },
     "execution_count": 10,
     "metadata": {},
     "output_type": "execute_result"
    }
   ],
   "source": [
    "df2=df[['datetime', 'deviceid', 'latitude', 'longitude', 'altitude', 'speed', 'attributes', 'accuracy']]\n",
    "#df2.head()\n",
    "\n",
    "\n",
    "one=df2.iloc[1]\n",
    "one = pd.DataFrame(one)\n",
    "one\n",
    "#irr2=df2.iloc[113:115, :]\n",
    "#re1=df2.iloc[116:120,:]"
   ]
  },
  {
   "cell_type": "code",
   "execution_count": 15,
   "metadata": {},
   "outputs": [],
   "source": [
    "tdf1 = skmob.TrajDataFrame(one, latitude='latitude', longitude='longitude', datetime='datetime', user_id='device_id')\n",
    "#tdf2=skmob.TrajDataFrame(df2, latitude='latitude', longitude='longitude', datetime='datetime', user_id='deviceid')\n",
    "\n",
    "#tdf3=skmob.TrajDataFrame(irr1, latitude='latitude', longitude='longitude', datetime='datetime', user_id='deviceid')"
   ]
  },
  {
   "cell_type": "code",
   "execution_count": 16,
   "metadata": {},
   "outputs": [
    {
     "ename": "KeyError",
     "evalue": "\"None of [Index(['lng', 'lat'], dtype='object')] are in the [columns]\"",
     "output_type": "error",
     "traceback": [
      "\u001b[0;31m---------------------------------------------------------------------------\u001b[0m",
      "\u001b[0;31mKeyError\u001b[0m                                  Traceback (most recent call last)",
      "\u001b[0;32m<ipython-input-16-d1f4feb520be>\u001b[0m in \u001b[0;36m<module>\u001b[0;34m\u001b[0m\n\u001b[1;32m      1\u001b[0m \u001b[0mtdf1\u001b[0m\u001b[0;34m\u001b[0m\u001b[0;34m\u001b[0m\u001b[0m\n\u001b[0;32m----> 2\u001b[0;31m \u001b[0mtdf1\u001b[0m\u001b[0;34m.\u001b[0m\u001b[0mplot_trajectory\u001b[0m\u001b[0;34m(\u001b[0m\u001b[0;34m)\u001b[0m\u001b[0;34m\u001b[0m\u001b[0;34m\u001b[0m\u001b[0m\n\u001b[0m\u001b[1;32m      3\u001b[0m \u001b[0;31m#tdf2\u001b[0m\u001b[0;34m\u001b[0m\u001b[0;34m\u001b[0m\u001b[0;34m\u001b[0m\u001b[0m\n\u001b[1;32m      4\u001b[0m \u001b[0;31m#tdf2.plot_trajectory()\u001b[0m\u001b[0;34m\u001b[0m\u001b[0;34m\u001b[0m\u001b[0;34m\u001b[0m\u001b[0m\n\u001b[1;32m      5\u001b[0m \u001b[0;34m\u001b[0m\u001b[0m\n",
      "\u001b[0;32m~/miniconda3/envs/skmob/lib/python3.7/site-packages/scikit_mobility-1.0-py3.7.egg/skmob/core/trajectorydataframe.py\u001b[0m in \u001b[0;36mplot_trajectory\u001b[0;34m(self, map_f, max_users, max_points, style_function, tiles, zoom, hex_color, weight, opacity, start_end_markers)\u001b[0m\n\u001b[1;32m    363\u001b[0m         return plot.plot_trajectory(self, map_f=map_f, max_users=max_users, max_points=max_points,\n\u001b[1;32m    364\u001b[0m                                     \u001b[0mstyle_function\u001b[0m\u001b[0;34m=\u001b[0m\u001b[0mstyle_function\u001b[0m\u001b[0;34m,\u001b[0m \u001b[0mtiles\u001b[0m\u001b[0;34m=\u001b[0m\u001b[0mtiles\u001b[0m\u001b[0;34m,\u001b[0m \u001b[0mzoom\u001b[0m\u001b[0;34m=\u001b[0m\u001b[0mzoom\u001b[0m\u001b[0;34m,\u001b[0m \u001b[0mhex_color\u001b[0m\u001b[0;34m=\u001b[0m\u001b[0mhex_color\u001b[0m\u001b[0;34m,\u001b[0m\u001b[0;34m\u001b[0m\u001b[0;34m\u001b[0m\u001b[0m\n\u001b[0;32m--> 365\u001b[0;31m                                     weight=weight, opacity=opacity, start_end_markers=start_end_markers)\n\u001b[0m\u001b[1;32m    366\u001b[0m \u001b[0;34m\u001b[0m\u001b[0m\n\u001b[1;32m    367\u001b[0m     def plot_stops(self, map_f=None, max_users=10, tiles='cartodbpositron', zoom=12, hex_color=-1, opacity=0.3,\n",
      "\u001b[0;32m~/miniconda3/envs/skmob/lib/python3.7/site-packages/scikit_mobility-1.0-py3.7.egg/skmob/utils/plot.py\u001b[0m in \u001b[0;36mplot_trajectory\u001b[0;34m(tdf, map_f, max_users, max_points, style_function, tiles, zoom, hex_color, weight, opacity, start_end_markers)\u001b[0m\n\u001b[1;32m    110\u001b[0m         \u001b[0mnu\u001b[0m \u001b[0;34m+=\u001b[0m \u001b[0;36m1\u001b[0m\u001b[0;34m\u001b[0m\u001b[0;34m\u001b[0m\u001b[0m\n\u001b[1;32m    111\u001b[0m \u001b[0;34m\u001b[0m\u001b[0m\n\u001b[0;32m--> 112\u001b[0;31m         \u001b[0mtraj\u001b[0m \u001b[0;34m=\u001b[0m \u001b[0mdf\u001b[0m\u001b[0;34m[\u001b[0m\u001b[0;34m[\u001b[0m\u001b[0mconstants\u001b[0m\u001b[0;34m.\u001b[0m\u001b[0mLONGITUDE\u001b[0m\u001b[0;34m,\u001b[0m \u001b[0mconstants\u001b[0m\u001b[0;34m.\u001b[0m\u001b[0mLATITUDE\u001b[0m\u001b[0;34m]\u001b[0m\u001b[0;34m]\u001b[0m\u001b[0;34m\u001b[0m\u001b[0;34m\u001b[0m\u001b[0m\n\u001b[0m\u001b[1;32m    113\u001b[0m \u001b[0;34m\u001b[0m\u001b[0m\n\u001b[1;32m    114\u001b[0m         \u001b[0;32mif\u001b[0m \u001b[0mmax_points\u001b[0m \u001b[0;32mis\u001b[0m \u001b[0;32mNone\u001b[0m\u001b[0;34m:\u001b[0m\u001b[0;34m\u001b[0m\u001b[0;34m\u001b[0m\u001b[0m\n",
      "\u001b[0;32m~/miniconda3/envs/skmob/lib/python3.7/site-packages/scikit_mobility-1.0-py3.7.egg/skmob/core/trajectorydataframe.py\u001b[0m in \u001b[0;36m__getitem__\u001b[0;34m(self, key)\u001b[0m\n\u001b[1;32m    187\u001b[0m         \u001b[0mIt\u001b[0m \u001b[0mthe\u001b[0m \u001b[0mresult\u001b[0m \u001b[0mcontains\u001b[0m \u001b[0mlat\u001b[0m\u001b[0;34m,\u001b[0m \u001b[0mlng\u001b[0m \u001b[0;32mand\u001b[0m \u001b[0mdatetime\u001b[0m\u001b[0;34m,\u001b[0m \u001b[0;32mreturn\u001b[0m \u001b[0ma\u001b[0m \u001b[0mTrajDataFrame\u001b[0m\u001b[0;34m,\u001b[0m \u001b[0;32melse\u001b[0m \u001b[0ma\u001b[0m \u001b[0mpandas\u001b[0m \u001b[0mDataFrame\u001b[0m\u001b[0;34m.\u001b[0m\u001b[0;34m\u001b[0m\u001b[0;34m\u001b[0m\u001b[0m\n\u001b[1;32m    188\u001b[0m         \"\"\"\n\u001b[0;32m--> 189\u001b[0;31m         \u001b[0mresult\u001b[0m \u001b[0;34m=\u001b[0m \u001b[0msuper\u001b[0m\u001b[0;34m(\u001b[0m\u001b[0mTrajDataFrame\u001b[0m\u001b[0;34m,\u001b[0m \u001b[0mself\u001b[0m\u001b[0;34m)\u001b[0m\u001b[0;34m.\u001b[0m\u001b[0m__getitem__\u001b[0m\u001b[0;34m(\u001b[0m\u001b[0mkey\u001b[0m\u001b[0;34m)\u001b[0m\u001b[0;34m\u001b[0m\u001b[0;34m\u001b[0m\u001b[0m\n\u001b[0m\u001b[1;32m    190\u001b[0m \u001b[0;34m\u001b[0m\u001b[0m\n\u001b[1;32m    191\u001b[0m         \u001b[0;32mif\u001b[0m \u001b[0;34m(\u001b[0m\u001b[0misinstance\u001b[0m\u001b[0;34m(\u001b[0m\u001b[0mresult\u001b[0m\u001b[0;34m,\u001b[0m \u001b[0mTrajDataFrame\u001b[0m\u001b[0;34m)\u001b[0m\u001b[0;34m)\u001b[0m \u001b[0;32mand\u001b[0m \u001b[0mresult\u001b[0m\u001b[0;34m.\u001b[0m\u001b[0m_is_trajdataframe\u001b[0m\u001b[0;34m(\u001b[0m\u001b[0;34m)\u001b[0m\u001b[0;34m:\u001b[0m\u001b[0;34m\u001b[0m\u001b[0;34m\u001b[0m\u001b[0m\n",
      "\u001b[0;32m~/miniconda3/envs/skmob/lib/python3.7/site-packages/pandas-0.24.0-py3.7-linux-x86_64.egg/pandas/core/frame.py\u001b[0m in \u001b[0;36m__getitem__\u001b[0;34m(self, key)\u001b[0m\n\u001b[1;32m   2922\u001b[0m                 \u001b[0mkey\u001b[0m \u001b[0;34m=\u001b[0m \u001b[0mlist\u001b[0m\u001b[0;34m(\u001b[0m\u001b[0mkey\u001b[0m\u001b[0;34m)\u001b[0m\u001b[0;34m\u001b[0m\u001b[0;34m\u001b[0m\u001b[0m\n\u001b[1;32m   2923\u001b[0m             indexer = self.loc._convert_to_indexer(key, axis=1,\n\u001b[0;32m-> 2924\u001b[0;31m                                                    raise_missing=True)\n\u001b[0m\u001b[1;32m   2925\u001b[0m \u001b[0;34m\u001b[0m\u001b[0m\n\u001b[1;32m   2926\u001b[0m         \u001b[0;31m# take() does not accept boolean indexers\u001b[0m\u001b[0;34m\u001b[0m\u001b[0;34m\u001b[0m\u001b[0;34m\u001b[0m\u001b[0m\n",
      "\u001b[0;32m~/miniconda3/envs/skmob/lib/python3.7/site-packages/pandas-0.24.0-py3.7-linux-x86_64.egg/pandas/core/indexing.py\u001b[0m in \u001b[0;36m_convert_to_indexer\u001b[0;34m(self, obj, axis, is_setter, raise_missing)\u001b[0m\n\u001b[1;32m   1352\u001b[0m                 kwargs = {'raise_missing': True if is_setter else\n\u001b[1;32m   1353\u001b[0m                           raise_missing}\n\u001b[0;32m-> 1354\u001b[0;31m                 \u001b[0;32mreturn\u001b[0m \u001b[0mself\u001b[0m\u001b[0;34m.\u001b[0m\u001b[0m_get_listlike_indexer\u001b[0m\u001b[0;34m(\u001b[0m\u001b[0mobj\u001b[0m\u001b[0;34m,\u001b[0m \u001b[0maxis\u001b[0m\u001b[0;34m,\u001b[0m \u001b[0;34m**\u001b[0m\u001b[0mkwargs\u001b[0m\u001b[0;34m)\u001b[0m\u001b[0;34m[\u001b[0m\u001b[0;36m1\u001b[0m\u001b[0;34m]\u001b[0m\u001b[0;34m\u001b[0m\u001b[0;34m\u001b[0m\u001b[0m\n\u001b[0m\u001b[1;32m   1355\u001b[0m         \u001b[0;32melse\u001b[0m\u001b[0;34m:\u001b[0m\u001b[0;34m\u001b[0m\u001b[0;34m\u001b[0m\u001b[0m\n\u001b[1;32m   1356\u001b[0m             \u001b[0;32mtry\u001b[0m\u001b[0;34m:\u001b[0m\u001b[0;34m\u001b[0m\u001b[0;34m\u001b[0m\u001b[0m\n",
      "\u001b[0;32m~/miniconda3/envs/skmob/lib/python3.7/site-packages/pandas-0.24.0-py3.7-linux-x86_64.egg/pandas/core/indexing.py\u001b[0m in \u001b[0;36m_get_listlike_indexer\u001b[0;34m(self, key, axis, raise_missing)\u001b[0m\n\u001b[1;32m   1159\u001b[0m         self._validate_read_indexer(keyarr, indexer,\n\u001b[1;32m   1160\u001b[0m                                     \u001b[0mo\u001b[0m\u001b[0;34m.\u001b[0m\u001b[0m_get_axis_number\u001b[0m\u001b[0;34m(\u001b[0m\u001b[0maxis\u001b[0m\u001b[0;34m)\u001b[0m\u001b[0;34m,\u001b[0m\u001b[0;34m\u001b[0m\u001b[0;34m\u001b[0m\u001b[0m\n\u001b[0;32m-> 1161\u001b[0;31m                                     raise_missing=raise_missing)\n\u001b[0m\u001b[1;32m   1162\u001b[0m         \u001b[0;32mreturn\u001b[0m \u001b[0mkeyarr\u001b[0m\u001b[0;34m,\u001b[0m \u001b[0mindexer\u001b[0m\u001b[0;34m\u001b[0m\u001b[0;34m\u001b[0m\u001b[0m\n\u001b[1;32m   1163\u001b[0m \u001b[0;34m\u001b[0m\u001b[0m\n",
      "\u001b[0;32m~/miniconda3/envs/skmob/lib/python3.7/site-packages/pandas-0.24.0-py3.7-linux-x86_64.egg/pandas/core/indexing.py\u001b[0m in \u001b[0;36m_validate_read_indexer\u001b[0;34m(self, key, indexer, axis, raise_missing)\u001b[0m\n\u001b[1;32m   1244\u001b[0m                 raise KeyError(\n\u001b[1;32m   1245\u001b[0m                     u\"None of [{key}] are in the [{axis}]\".format(\n\u001b[0;32m-> 1246\u001b[0;31m                         key=key, axis=self.obj._get_axis_name(axis)))\n\u001b[0m\u001b[1;32m   1247\u001b[0m \u001b[0;34m\u001b[0m\u001b[0m\n\u001b[1;32m   1248\u001b[0m             \u001b[0;31m# We (temporarily) allow for some missing keys with .loc, except in\u001b[0m\u001b[0;34m\u001b[0m\u001b[0;34m\u001b[0m\u001b[0;34m\u001b[0m\u001b[0m\n",
      "\u001b[0;31mKeyError\u001b[0m: \"None of [Index(['lng', 'lat'], dtype='object')] are in the [columns]\""
     ]
    }
   ],
   "source": [
    "tdf1\n",
    "tdf1.plot_trajectory()\n",
    "#tdf2\n",
    "#tdf2.plot_trajectory()\n",
    "\n",
    "# tdf3\n",
    "# tdf3.plot_trajectory()"
   ]
  },
  {
   "cell_type": "markdown",
   "metadata": {},
   "source": [
    "* tdf는 근성선배 코드라서 내가 알아보기 쉽게 구현함*"
   ]
  },
  {
   "cell_type": "code",
   "execution_count": null,
   "metadata": {},
   "outputs": [],
   "source": [
    "from skmob.preprocessing import filtering"
   ]
  },
  {
   "cell_type": "code",
   "execution_count": null,
   "metadata": {},
   "outputs": [],
   "source": [
    "ftdf1 = filtering.filter(tdf1, max_speed_kmh=300, include_loops=True, max_loop=6, ratio_max=0.5)\n",
    "# ftdf2 = filtering.filter(tdf3, max_speed_kmh=300, include_loops=True, max_loop=6, ratio_max=0.5)"
   ]
  },
  {
   "cell_type": "code",
   "execution_count": null,
   "metadata": {
    "scrolled": true
   },
   "outputs": [],
   "source": [
    "ftdf1.plot_trajectory()\n",
    "#ftdf2.plot_trajectory()"
   ]
  },
  {
   "cell_type": "code",
   "execution_count": null,
   "metadata": {},
   "outputs": [],
   "source": [
    "from skmob.preprocessing import detection"
   ]
  },
  {
   "cell_type": "code",
   "execution_count": null,
   "metadata": {},
   "outputs": [],
   "source": [
    "stdf1 = detection.stops(ftdf1,  stop_radius_factor=0.5, minutes_for_a_stop=20.0, spatial_radius_km=0.2, leaving_time=True)\n",
    "#stdf2 = detection.stops(ftdf2,  stop_radius_factor=0.5, minutes_for_a_stop=20.0, spatial_radius_km=0.2, leaving_time=True)"
   ]
  },
  {
   "cell_type": "code",
   "execution_count": null,
   "metadata": {},
   "outputs": [],
   "source": [
    "stdf1.plot_stops()"
   ]
  }
 ],
 "metadata": {
  "kernelspec": {
   "display_name": "Python 3",
   "language": "python",
   "name": "python3"
  },
  "language_info": {
   "codemirror_mode": {
    "name": "ipython",
    "version": 3
   },
   "file_extension": ".py",
   "mimetype": "text/x-python",
   "name": "python",
   "nbconvert_exporter": "python",
   "pygments_lexer": "ipython3",
   "version": "3.7.4"
  }
 },
 "nbformat": 4,
 "nbformat_minor": 4
}
